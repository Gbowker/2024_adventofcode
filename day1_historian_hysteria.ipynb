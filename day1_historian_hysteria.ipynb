{
 "cells": [
  {
   "cell_type": "markdown",
   "id": "a34f83dd-5d7c-4730-ab45-92fdb90939d6",
   "metadata": {},
   "source": [
    "# Advent of Code 2024\n",
    "\n",
    "The Chief Historian is always present for the big Christmas sleigh launch, but nobody has seen him in months! Last anyone heard, he was visiting locations that are historically significant to the North Pole; a group of Senior Historians has asked you to accompany them as they check the places they think he was most likely to visit.\n",
    "\n",
    "As each location is checked, they will mark it on their list with a star. They figure the Chief Historian must be in one of the first fifty places they'll look, so in order to save Christmas, you need to help them get fifty stars on their list before Santa takes off on December 25th.\n",
    "\n",
    "Collect stars by solving puzzles. Two puzzles will be made available on each day in the Advent calendar; the second puzzle is unlocked when you complete the first. Each puzzle grants one star. Good luck!"
   ]
  },
  {
   "cell_type": "markdown",
   "id": "2bd79f1f-b8e3-4828-b8a5-a762d96253f1",
   "metadata": {},
   "source": [
    "--- Day 1: Historian Hysteria ---\n",
    "\n",
    "You haven't even left yet and the group of Elvish Senior Historians has already hit a problem: their list of locations to check is currently empty. Eventually, someone decides that the best place to check first would be the Chief Historian's office.\n",
    "\n",
    "Upon pouring into the office, everyone confirms that the Chief Historian is indeed nowhere to be found. Instead, the Elves discover an assortment of notes and lists of historically significant locations! This seems to be the planning the Chief Historian was doing before he left. Perhaps these notes can be used to determine which locations to search?\n",
    "\n",
    "Throughout the Chief's office, the historically significant locations are listed not by name but by a unique number called the location ID. To make sure they don't miss anything, The Historians split into two groups, each searching the office and trying to create their own complete list of location IDs.\n",
    "\n",
    "There's just one problem: by holding the two lists up side by side (your puzzle input), it quickly becomes clear that the lists aren't very similar. Maybe you can help The Historians reconcile their lists?"
   ]
  },
  {
   "cell_type": "code",
   "execution_count": 4,
   "id": "60f1480b-aa00-434c-afce-14914b8461df",
   "metadata": {},
   "outputs": [],
   "source": [
    "import numpy as np\n",
    "import pandas as pd"
   ]
  },
  {
   "cell_type": "code",
   "execution_count": 6,
   "id": "46a3935d-7037-445e-8326-96ef8bf56764",
   "metadata": {},
   "outputs": [
    {
     "name": "stdout",
     "output_type": "stream",
     "text": [
      "     list1  list2  diff\n",
      "0    10031  10088    57\n",
      "1    10238  10650   412\n",
      "2    10242  10753   511\n",
      "3    10277  10762   485\n",
      "4    10344  10907   563\n",
      "..     ...    ...   ...\n",
      "995  99371  99603   232\n",
      "996  99510  99603    93\n",
      "997  99562  99603    41\n",
      "998  99603  99603     0\n",
      "999  99854  99815    39\n",
      "\n",
      "[1000 rows x 3 columns]\n",
      "Answer: 1341714\n"
     ]
    },
    {
     "name": "stderr",
     "output_type": "stream",
     "text": [
      "/var/folders/l0/cg5y3h0x5n3c9mjg0pm813d40000gp/T/ipykernel_67042/1122192992.py:1: ParserWarning: Falling back to the 'python' engine because the 'c' engine does not support regex separators (separators > 1 char and different from '\\s+' are interpreted as regex); you can avoid this warning by specifying engine='python'.\n",
      "  locIDs = pd.read_csv(\"day1_input\", sep=\"   \", names=[\"list1\", \"list2\"])\n"
     ]
    }
   ],
   "source": [
    "locIDs = pd.read_csv(\"day1_input\", sep=\"   \", names=[\"list1\", \"list2\"])\n",
    "\n",
    "locIDs_sorted = pd.DataFrame.from_dict({'list1':np.sort(locIDs[\"list1\"]),\n",
    "                                        'list2':np.sort(locIDs[\"list2\"])})\n",
    "locIDs_sorted['diff'] = abs(locIDs_sorted['list1']-locIDs_sorted['list2'])\n",
    "answer = locIDs_sorted['diff'].sum()\n",
    "\n",
    "print(locIDs_sorted)\n",
    "print(f\"Answer: {answer}\")"
   ]
  },
  {
   "cell_type": "markdown",
   "id": "b333819f-1fae-49ee-b089-b5cedc8ced36",
   "metadata": {},
   "source": [
    "--- Part Two ---\n",
    "\n",
    "Your analysis only confirmed what everyone feared: the two lists of location IDs are indeed very different.\n",
    "\n",
    "Or are they?\n",
    "\n",
    "The Historians can't agree on which group made the mistakes or how to read most of the Chief's handwriting, but in the commotion you notice an interesting detail: a lot of location IDs appear in both lists! Maybe the other numbers aren't location IDs at all but rather misinterpreted handwriting.\n",
    "\n",
    "This time, you'll need to figure out exactly how often each number from the left list appears in the right list. Calculate a total similarity score by adding up each number in the left list after multiplying it by the number of times that number appears in the right list."
   ]
  },
  {
   "cell_type": "code",
   "execution_count": 28,
   "id": "695704e8-9e51-4a68-9cbf-d6c8ab284aba",
   "metadata": {},
   "outputs": [
    {
     "data": {
      "text/html": [
       "<div>\n",
       "<style scoped>\n",
       "    .dataframe tbody tr th:only-of-type {\n",
       "        vertical-align: middle;\n",
       "    }\n",
       "\n",
       "    .dataframe tbody tr th {\n",
       "        vertical-align: top;\n",
       "    }\n",
       "\n",
       "    .dataframe thead th {\n",
       "        text-align: right;\n",
       "    }\n",
       "</style>\n",
       "<table border=\"1\" class=\"dataframe\">\n",
       "  <thead>\n",
       "    <tr style=\"text-align: right;\">\n",
       "      <th></th>\n",
       "      <th>list1</th>\n",
       "      <th>list2</th>\n",
       "      <th>diff</th>\n",
       "      <th>occurance</th>\n",
       "    </tr>\n",
       "  </thead>\n",
       "  <tbody>\n",
       "    <tr>\n",
       "      <th>0</th>\n",
       "      <td>10031</td>\n",
       "      <td>10088</td>\n",
       "      <td>57</td>\n",
       "      <td>NaN</td>\n",
       "    </tr>\n",
       "    <tr>\n",
       "      <th>1</th>\n",
       "      <td>10238</td>\n",
       "      <td>10650</td>\n",
       "      <td>412</td>\n",
       "      <td>NaN</td>\n",
       "    </tr>\n",
       "    <tr>\n",
       "      <th>2</th>\n",
       "      <td>10242</td>\n",
       "      <td>10753</td>\n",
       "      <td>511</td>\n",
       "      <td>NaN</td>\n",
       "    </tr>\n",
       "    <tr>\n",
       "      <th>3</th>\n",
       "      <td>10277</td>\n",
       "      <td>10762</td>\n",
       "      <td>485</td>\n",
       "      <td>NaN</td>\n",
       "    </tr>\n",
       "    <tr>\n",
       "      <th>4</th>\n",
       "      <td>10344</td>\n",
       "      <td>10907</td>\n",
       "      <td>563</td>\n",
       "      <td>NaN</td>\n",
       "    </tr>\n",
       "    <tr>\n",
       "      <th>...</th>\n",
       "      <td>...</td>\n",
       "      <td>...</td>\n",
       "      <td>...</td>\n",
       "      <td>...</td>\n",
       "    </tr>\n",
       "    <tr>\n",
       "      <th>995</th>\n",
       "      <td>99371</td>\n",
       "      <td>99603</td>\n",
       "      <td>232</td>\n",
       "      <td>NaN</td>\n",
       "    </tr>\n",
       "    <tr>\n",
       "      <th>996</th>\n",
       "      <td>99510</td>\n",
       "      <td>99603</td>\n",
       "      <td>93</td>\n",
       "      <td>NaN</td>\n",
       "    </tr>\n",
       "    <tr>\n",
       "      <th>997</th>\n",
       "      <td>99562</td>\n",
       "      <td>99603</td>\n",
       "      <td>41</td>\n",
       "      <td>NaN</td>\n",
       "    </tr>\n",
       "    <tr>\n",
       "      <th>998</th>\n",
       "      <td>99603</td>\n",
       "      <td>99603</td>\n",
       "      <td>0</td>\n",
       "      <td>NaN</td>\n",
       "    </tr>\n",
       "    <tr>\n",
       "      <th>999</th>\n",
       "      <td>99854</td>\n",
       "      <td>99815</td>\n",
       "      <td>39</td>\n",
       "      <td>NaN</td>\n",
       "    </tr>\n",
       "  </tbody>\n",
       "</table>\n",
       "<p>1000 rows × 4 columns</p>\n",
       "</div>"
      ],
      "text/plain": [
       "     list1  list2  diff occurance\n",
       "0    10031  10088    57       NaN\n",
       "1    10238  10650   412       NaN\n",
       "2    10242  10753   511       NaN\n",
       "3    10277  10762   485       NaN\n",
       "4    10344  10907   563       NaN\n",
       "..     ...    ...   ...       ...\n",
       "995  99371  99603   232       NaN\n",
       "996  99510  99603    93       NaN\n",
       "997  99562  99603    41       NaN\n",
       "998  99603  99603     0       NaN\n",
       "999  99854  99815    39       NaN\n",
       "\n",
       "[1000 rows x 4 columns]"
      ]
     },
     "execution_count": 28,
     "metadata": {},
     "output_type": "execute_result"
    }
   ],
   "source": [
    "\n",
    "occurance = []\n",
    "for index, row in locIDs_sorted.iterrows():\n",
    "    freq = locIDs_sorted['list2'].value_counts().get(row['list1'])\n",
    "    occurance.append(freq)\n",
    "    # print(row['list1'], occurance[index])\n",
    "\n",
    "# add dict to df\n",
    "locIDs_sorted['occurance'] = {\"occurance\": occurance}\n",
    "\n",
    "locIDs_sorted"
   ]
  },
  {
   "cell_type": "code",
   "execution_count": null,
   "id": "86914a82-b525-46fb-8f5e-ea12b4d1b75e",
   "metadata": {},
   "outputs": [],
   "source": []
  }
 ],
 "metadata": {
  "kernelspec": {
   "display_name": "Python 3 (ipykernel)",
   "language": "python",
   "name": "python3"
  },
  "language_info": {
   "codemirror_mode": {
    "name": "ipython",
    "version": 3
   },
   "file_extension": ".py",
   "mimetype": "text/x-python",
   "name": "python",
   "nbconvert_exporter": "python",
   "pygments_lexer": "ipython3",
   "version": "3.13.0"
  }
 },
 "nbformat": 4,
 "nbformat_minor": 5
}
